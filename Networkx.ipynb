{
  "nbformat": 4,
  "nbformat_minor": 0,
  "metadata": {
    "colab": {
      "provenance": []
    },
    "kernelspec": {
      "name": "python3",
      "display_name": "Python 3"
    },
    "language_info": {
      "name": "python"
    }
  },
  "cells": [
    {
      "cell_type": "code",
      "execution_count": null,
      "metadata": {
        "id": "CjC8tmZo33rU"
      },
      "outputs": [],
      "source": [
        "import networkx as nx\n",
        "import numpy as np\n",
        "import matplotlib.pyplot as plt"
      ]
    },
    {
      "cell_type": "code",
      "source": [
        "G = nx.Graph()\n",
        "G.graph[\"Name\"] = \"G1\""
      ],
      "metadata": {
        "id": "qhBOa5Vp37U0"
      },
      "execution_count": null,
      "outputs": []
    },
    {
      "cell_type": "code",
      "source": [
        "nodes = [\"V1\",\"V2\",\"V3\",\"V4\",\"V5\",\"V6\"]\n",
        "G1_node_values = {\n",
        "    \"V1\" : [5,7,9,2],\n",
        "    \"V2\" : [-5,3,-1,7],\n",
        "    \"V3\" : [1,5,3,4],\n",
        "    \"V4\" : [5,-3,2,6],\n",
        "    \"V5\" : [3,4,6,7],\n",
        "    \"V6\" : [-3,4,6,-2]\n",
        "}\n",
        "G.add_nodes_from(nodes)"
      ],
      "metadata": {
        "id": "6JD9n2Tr4WBn"
      },
      "execution_count": null,
      "outputs": []
    },
    {
      "cell_type": "code",
      "source": [
        "G.add_edges_from([\n",
        "    (\"V1\",\"V5\"),\n",
        "    (\"V5\",\"V4\"),\n",
        "    (\"V4\",\"V2\"),\n",
        "    (\"V2\",\"V1\"),\n",
        "    (\"V2\",\"V3\"),\n",
        "    (\"V3\",\"V6\"),\n",
        "    (\"V6\",\"V4\"),\n",
        "])"
      ],
      "metadata": {
        "id": "FtxCiPYo4brY"
      },
      "execution_count": null,
      "outputs": []
    },
    {
      "cell_type": "code",
      "source": [
        "pos={\n",
        "    \"V1\":(0,4),\n",
        "    \"V2\":(0,0),\n",
        "    \"V3\":(2,2),\n",
        "    \"V4\":(4,0),\n",
        "    \"V5\":(4,5),\n",
        "    \"V6\":(6,2),\n",
        "}"
      ],
      "metadata": {
        "id": "xctozT2l4mD4"
      },
      "execution_count": null,
      "outputs": []
    },
    {
      "cell_type": "code",
      "source": [
        "p = nx.draw(G,pos=pos, with_labels=True, node_color=\"pink\",edge_color=\"brown\", node_size=500)"
      ],
      "metadata": {
        "colab": {
          "base_uri": "https://localhost:8080/",
          "height": 516
        },
        "id": "O4gmAmR44wgc",
        "outputId": "7d3696b7-66f8-4dc3-af4d-940299608323"
      },
      "execution_count": null,
      "outputs": [
        {
          "output_type": "display_data",
          "data": {
            "text/plain": [
              "<Figure size 640x480 with 1 Axes>"
            ],
            "image/png": "[encoded data removed]"
          },
          "metadata": {}
        }
      ]
    },
    {
      "cell_type": "code",
      "source": [],
      "metadata": {
        "id": "lwya0Z635ain"
      },
      "execution_count": null,
      "outputs": []
    },
    {
      "cell_type": "code",
      "source": [
        "for val in G1_node_values:\n",
        "    print(\"Information for G1,s \", val)\n",
        "    print(\"Data is \", G1_node_values[val])"
      ],
      "metadata": {
        "colab": {
          "base_uri": "https://localhost:8080/"
        },
        "id": "akOq2LOq4-E_",
        "outputId": "55d294b2-b462-4f19-80ad-b12c4056ad22"
      },
      "execution_count": null,
      "outputs": [
        {
          "output_type": "stream",
          "name": "stdout",
          "text": [
            "Information for G1,s  V1\n",
            "Data is  [5, 7, 9, 2]\n",
            "Information for G1,s  V2\n",
            "Data is  [-5, 3, -1, 7]\n",
            "Information for G1,s  V3\n",
            "Data is  [1, 5, 3, 4]\n",
            "Information for G1,s  V4\n",
            "Data is  [5, -3, 2, 6]\n",
            "Information for G1,s  V5\n",
            "Data is  [3, 4, 6, 7]\n",
            "Information for G1,s  V6\n",
            "Data is  [-3, 4, 6, -2]\n"
          ]
        }
      ]
    },
    {
      "cell_type": "code",
      "source": [
        "partition = [{\"V1\"}, {\"V2\"}, {\"V4\"}, {\"V5\"}, {\"V3\",\"V6\"}]"
      ],
      "metadata": {
        "id": "5lQ5Jwax5DXd"
      },
      "execution_count": null,
      "outputs": []
    },
    {
      "cell_type": "code",
      "source": [
        "m = nx.quotient_graph(G, partition, node_data= None, relabel=False, create_using=None)\n",
        "m.nodes\n",
        "p = list(m.nodes)\n",
        "out = [next(iter(fset)) for fset in p if fset]"
      ],
      "metadata": {
        "id": "jRz3--Vk5HKM"
      },
      "execution_count": null,
      "outputs": []
    },
    {
      "cell_type": "code",
      "source": [
        "dict = {}\n",
        "for i in G1_node_values:\n",
        "  if i == \"V3\" or i == \"V6\":\n",
        "    dict[i]=G1_node_values[i]\n",
        "\n",
        "sum=[]\n",
        "V3V6 = []\n",
        "for i in dict:\n",
        "  sum.append(dict[i])\n",
        "q =0\n",
        "p=0\n",
        "for i in sum:\n",
        "  for j in i:\n",
        "    if q < 4:\n",
        "      V3V6.append(j)\n",
        "      q=q+1\n",
        "    else:\n",
        "      V3V6[p]=(V3V6[p]+j)/2\n",
        "      p=p+1\n",
        "\n",
        "G2_node_values = G1_node_values.copy()\n",
        "del G2_node_values[\"V3\"]\n",
        "del G2_node_values[\"V6\"]\n",
        "G2_node_values[\"V3V6\"]=V3V6"
      ],
      "metadata": {
        "id": "31etspaH5cuv"
      },
      "execution_count": null,
      "outputs": []
    },
    {
      "cell_type": "code",
      "source": [
        "H = nx.Graph()\n",
        "H.graph[\"Name\"] = \"G2\"\n",
        "\n"
      ],
      "metadata": {
        "id": "LD-L0E935fZD"
      },
      "execution_count": null,
      "outputs": []
    },
    {
      "cell_type": "code",
      "source": [
        "H.add_nodes_from(out)"
      ],
      "metadata": {
        "id": "UkIOk1zO5ndd"
      },
      "execution_count": null,
      "outputs": []
    },
    {
      "cell_type": "code",
      "source": [
        "H.add_edges_from([\n",
        "    (\"V1\",\"V5\"),\n",
        "    (\"V5\",\"V4\"),\n",
        "    (\"V4\",\"V2\"),\n",
        "    (\"V2\",\"V1\"),\n",
        "    (\"V2\",\"V3\"),\n",
        "    (\"V3\",\"V4\"),\n",
        "])"
      ],
      "metadata": {
        "id": "5ObtzUvs5txz"
      },
      "execution_count": null,
      "outputs": []
    },
    {
      "cell_type": "code",
      "source": [
        "newpos={\n",
        "    \"V1\":(0,4),\n",
        "    \"V2\":(0,0),\n",
        "    \"V4\":(4,0),\n",
        "    \"V5\":(4,5),\n",
        "    \"V3\":(2,2),\n",
        "}"
      ],
      "metadata": {
        "id": "liVDAn3r5zXI"
      },
      "execution_count": null,
      "outputs": []
    },
    {
      "cell_type": "code",
      "source": [
        "nx.draw(H,with_labels=True,pos = newpos, node_color=\"pink\",edge_color=\"brown\",node_size=500)"
      ],
      "metadata": {
        "colab": {
          "base_uri": "https://localhost:8080/",
          "height": 516
        },
        "id": "ORvkrksl54rx",
        "outputId": "7acd2533-4cf0-4557-8b30-b0c7f9145f77"
      },
      "execution_count": null,
      "outputs": [
        {
          "output_type": "display_data",
          "data": {
            "text/plain": [
              "<Figure size 640x480 with 1 Axes>"
            ],
            "image/png": "[encoded data removed]"
          },
          "metadata": {}
        }
      ]
    },
    {
      "cell_type": "code",
      "source": [
        "for val in G2_node_values:\n",
        "    print(\"Information for G2's \", val)\n",
        "    print(\"Data is \", G2_node_values[val])"
      ],
      "metadata": {
        "colab": {
          "base_uri": "https://localhost:8080/"
        },
        "id": "npS2pGKs6DKw",
        "outputId": "78e11981-e206-43c4-9c56-bc7b08840044"
      },
      "execution_count": null,
      "outputs": [
        {
          "output_type": "stream",
          "name": "stdout",
          "text": [
            "Information for G2's  V1\n",
            "Data is  [5, 7, 9, 2]\n",
            "Information for G2's  V2\n",
            "Data is  [-5, 3, -1, 7]\n",
            "Information for G2's  V4\n",
            "Data is  [5, -3, 2, 6]\n",
            "Information for G2's  V5\n",
            "Data is  [3, 4, 6, 7]\n",
            "Information for G2's  V3V6\n",
            "Data is  [-1.0, 4.5, 4.5, 1.0]\n"
          ]
        }
      ]
    }
  ]
}